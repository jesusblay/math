{
  "nbformat": 4,
  "nbformat_minor": 0,
  "metadata": {
    "colab": {
      "name": "1 Funciones matemáticas.ipynb",
      "provenance": [],
      "collapsed_sections": [],
      "toc_visible": true,
      "include_colab_link": true
    },
    "kernelspec": {
      "name": "python3",
      "display_name": "Python 3"
    }
  },
  "cells": [
    {
      "cell_type": "markdown",
      "metadata": {
        "id": "view-in-github",
        "colab_type": "text"
      },
      "source": [
        "<a href=\"https://colab.research.google.com/github/jesusblay/math/blob/main/1_Funciones_matem%C3%A1ticas.ipynb\" target=\"_parent\"><img src=\"https://colab.research.google.com/assets/colab-badge.svg\" alt=\"Open In Colab\"/></a>"
      ]
    },
    {
      "cell_type": "code",
      "metadata": {
        "id": "_eH8kVUMMmkK"
      },
      "source": [
        "import matplotlib.pyplot as plt   # librería para graficar\n",
        "import numpy as np                # librería para manejo de vectores y utilidades matemáticas"
      ],
      "execution_count": 2,
      "outputs": []
    },
    {
      "cell_type": "markdown",
      "metadata": {
        "id": "2yBuQZflF0UX"
      },
      "source": [
        "### Funciones lineales\n",
        "\n",
        "Tiene la forma de $$f(x)=mx + b$$ donde $m$ y $b$  $\\in R$. \n",
        "\n",
        "$m$ puede ser calculada por: $$m=\\frac{y_{2}-y_{1}}{x_{2}-x_{1}}$$\n",
        "\n",
        "y $b$ es el punto de corte con el eje $y$. Su dominio es $Dom_{f} = (-\\infty, \\infty)$. Su imagen es $Im_{f} = (-\\infty, \\infty)$\n",
        "\n",
        "\n"
      ]
    },
    {
      "cell_type": "code",
      "metadata": {
        "id": "n3vMv_IGHGpy",
        "colab": {
          "base_uri": "https://localhost:8080/",
          "height": 282
        },
        "outputId": "15b37c3e-9860-43aa-81f1-2758d9a36671"
      },
      "source": [
        "N = 100 # número de puntos\n",
        "\n",
        "# Definimos la función \n",
        "def f(m,x,b):\n",
        "  return m*x + b\n",
        "\n",
        "res = 100   # resolución de los puntos\n",
        "\n",
        "m = (7-6)/(3-2)\n",
        "b = 10\n",
        "x = np.linspace(-10.0, 10.0, num=N) # Rango que queremos mostrar (y)\n",
        "\n",
        "# Utilizamos la función f que acabamos de crear\n",
        "y = f(m,x,b)\n",
        "\n",
        "# Graficamos la función\n",
        "fig, ax = plt.subplots()\n",
        "ax.plot(x, y)\n",
        "\n",
        "# Grid y ejes\n",
        "ax.grid()\n",
        "ax.axhline(y=0, color='r') \n",
        "ax.axvline(x=0, color='r')"
      ],
      "execution_count": null,
      "outputs": [
        {
          "output_type": "execute_result",
          "data": {
            "text/plain": [
              "<matplotlib.lines.Line2D at 0x7f9fcd634b10>"
            ]
          },
          "metadata": {},
          "execution_count": 3
        },
        {
          "output_type": "display_data",
          "data": {
            "image/png": "[encoded data removed]",
            "text/plain": [
              "<Figure size 432x288 with 1 Axes>"
            ]
          },
          "metadata": {
            "needs_background": "light"
          }
        }
      ]
    },
    {
      "cell_type": "markdown",
      "metadata": {
        "id": "FflFWNqjJCuO"
      },
      "source": [
        "### Funciones polinómicas\n",
        "\n",
        "Tiene la forma de $$P(x)=a_{n}x^{n} + a_{n-1}x^{n-1}+...+a_{2}x^{2}+a_{1}x + a_{1}$$\n",
        "\n",
        "A una función que tiene esta forma se le llama polinomio de grado $n$. \n",
        "A los elementos $a$ los llamaremos coeficientes donde $a \\in R$. \n",
        "\n",
        "**Por ejemplo:**\n",
        "\n",
        "$$P(x)= 2x^{7} - x^{4} + 3x^{2} + 4$$\n",
        "\n",
        "\n",
        "\n",
        "El dominio de $f(x)=x^{2}$ es $Dom_{f} = (-\\infty, \\infty)$. Su imagen es $Im_{f} = [0, \\infty)$\n",
        "\n",
        "\n",
        "\n"
      ]
    },
    {
      "cell_type": "code",
      "metadata": {
        "id": "v5EI228kb6NK",
        "colab": {
          "base_uri": "https://localhost:8080/",
          "height": 293
        },
        "outputId": "357aa089-b547-4818-ce33-2b40fc0f329a"
      },
      "source": [
        "def f(x):\n",
        "  return 2*x**7 - x**4 + 3*x**2 + 4\n",
        "\n",
        "x = np.linspace(-100.0, 100.0)\n",
        "\n",
        "y = f(x)\n",
        "\n",
        "fig, ax = plt.subplots()\n",
        "ax.plot(x, y)\n",
        "ax.grid()\n",
        "ax.axhline(y=0, color='r')\n",
        "ax.axvline(x=0, color='r')"
      ],
      "execution_count": 4,
      "outputs": [
        {
          "output_type": "execute_result",
          "data": {
            "text/plain": [
              "<matplotlib.lines.Line2D at 0x7fd523825b10>"
            ]
          },
          "metadata": {},
          "execution_count": 4
        },
        {
          "output_type": "display_data",
          "data": {
            "image/png": "[encoded data removed]",
            "text/plain": [
              "<Figure size 432x288 with 1 Axes>"
            ]
          },
          "metadata": {
            "needs_background": "light"
          }
        }
      ]
    },
    {
      "cell_type": "markdown",
      "metadata": {
        "id": "5-SPisguvJOv"
      },
      "source": [
        "### Funciones trigonométricas\n",
        "\n",
        "Algunos ejemplos son las funciones $cos(x)$, $sen(x)$ y $tan(x)$"
      ]
    },
    {
      "cell_type": "code",
      "metadata": {
        "id": "UUcfkDvwjCiU",
        "colab": {
          "base_uri": "https://localhost:8080/",
          "height": 282
        },
        "outputId": "5f369680-acc4-4f7d-9f26-1a45d55120e2"
      },
      "source": [
        "from math import pi\n",
        "\n",
        "def f(x):\n",
        "  return np.sin(x)\n",
        "\n",
        "x = np.linspace(-2*pi, 2*pi)\n",
        "\n",
        "y = f(x)\n",
        "\n",
        "fig, ax = plt.subplots()\n",
        "ax.plot(x, y)\n",
        "ax.grid()\n",
        "ax.axhline(y=0, color='r')\n",
        "ax.axvline(x=0, color='r')"
      ],
      "execution_count": 6,
      "outputs": [
        {
          "output_type": "execute_result",
          "data": {
            "text/plain": [
              "<matplotlib.lines.Line2D at 0x7fd5238b8990>"
            ]
          },
          "metadata": {},
          "execution_count": 6
        },
        {
          "output_type": "display_data",
          "data": {
            "image/png": "[encoded data removed]",
            "text/plain": [
              "<Figure size 432x288 with 1 Axes>"
            ]
          },
          "metadata": {
            "needs_background": "light"
          }
        }
      ]
    },
    {
      "cell_type": "markdown",
      "metadata": {
        "id": "fD5TzUHQz3L0"
      },
      "source": [
        "### Funciones exponenciales\n",
        "\n",
        "Tienen la forma de $$f(x)=a^x$$ donde la base $a$ es una constante positiva. Un gran ejemplo de una función exponencial es usando la base como el número de euler:\n",
        "\n",
        "$$f(x)=e^x$$"
      ]
    },
    {
      "cell_type": "code",
      "metadata": {
        "id": "Ax2KATylz7SQ",
        "colab": {
          "base_uri": "https://localhost:8080/",
          "height": 286
        },
        "outputId": "b2a42ff6-616d-4f68-a396-51c231b873fd"
      },
      "source": [
        "def f(x):\n",
        "  return np.e**x\n",
        "\n",
        "x = np.linspace(-1, 1, num=100000)\n",
        "\n",
        "y = f(x)\n",
        "\n",
        "delta = 0.01\n",
        "\n",
        "fig, ax = plt.subplots()\n",
        "ax.plot(x, y)\n",
        "ax.grid()\n",
        "ax.set_ylim(1 - delta,1 + delta)\n",
        "ax.set_xlim(0 - delta, 0 + delta)\n",
        "ax.axhline(y=0, color='r')\n",
        "ax.axvline(x=0, color='r')"
      ],
      "execution_count": 7,
      "outputs": [
        {
          "output_type": "execute_result",
          "data": {
            "text/plain": [
              "<matplotlib.lines.Line2D at 0x7fd51b13ba90>"
            ]
          },
          "metadata": {},
          "execution_count": 7
        },
        {
          "output_type": "display_data",
          "data": {
            "image/png": "[encoded data removed]",
            "text/plain": [
              "<Figure size 432x288 with 1 Axes>"
            ]
          },
          "metadata": {
            "needs_background": "light"
          }
        }
      ]
    },
    {
      "cell_type": "markdown",
      "metadata": {
        "id": "sCuI2UVA046t"
      },
      "source": [
        "### Funciones logarítmicas\n",
        "\n",
        "El logaritmo está definido por la **relación**:\n",
        "\n",
        "$$log_{b}(x) = n \\Longleftrightarrow x=b^n$$ \n",
        "\n",
        "donde: \n",
        "\n",
        "\n",
        "\n",
        "*   $b$ es la base.\n",
        "*   $n$ es el exponente al que está elevado la base.\n",
        "*   $x$ es el resultado de elevar la base $b$ al exponente $n$\n",
        "\n",
        "**Ejemplo:**\n",
        "\n",
        "Teniendo b=2 y n=8, entonces:\n",
        "\n",
        "$$2^8=256$$\n",
        "\n",
        "Por lo que $x=256$. Calculando el logaritmo base 2 de $x$ es:\n",
        "\n",
        "$$log_{2}(256) = 8$$\n",
        "\n",
        "\n",
        "\n"
      ]
    },
    {
      "cell_type": "code",
      "metadata": {
        "id": "e2HWt9k746Un",
        "colab": {
          "base_uri": "https://localhost:8080/",
          "height": 282
        },
        "outputId": "cb9bf716-cc53-484e-cabe-06a2801326c7"
      },
      "source": [
        "# utilidad en los decibelios\n",
        "\n",
        "def f(x):\n",
        "  return np.log2(x)\n",
        "\n",
        "x = np.linspace(0.01, 260)\n",
        "\n",
        "y = f(x)\n",
        "\n",
        "fig, ax = plt.subplots()\n",
        "ax.plot(x, y)\n",
        "ax.grid()\n",
        "ax.axhline(y=0, color='r')\n",
        "ax.axvline(x=0, color='r')"
      ],
      "execution_count": 11,
      "outputs": [
        {
          "output_type": "execute_result",
          "data": {
            "text/plain": [
              "<matplotlib.lines.Line2D at 0x7fd51af81a10>"
            ]
          },
          "metadata": {},
          "execution_count": 11
        },
        {
          "output_type": "display_data",
          "data": {
            "image/png": "[encoded data removed]",
            "text/plain": [
              "<Figure size 432x288 with 1 Axes>"
            ]
          },
          "metadata": {
            "needs_background": "light"
          }
        }
      ]
    },
    {
      "cell_type": "markdown",
      "metadata": {
        "id": "6Rz2Ofe_8zPM"
      },
      "source": [
        "# Función seccionada\n",
        "\n",
        "Son funciones que tienen diferentes valores definidos por un intervalo. Por ejemplo la función escalón de Heaviside: \n",
        "\n",
        "$$H(x) = \n",
        "     \\begin{cases}\n",
        "        0, &\\quad \\text{para, } x < 0 \\\\\n",
        "        1,  &\\quad\\text{para. } x \\ge 0 \\\\\n",
        "     \\end{cases}\n",
        "$$"
      ]
    },
    {
      "cell_type": "code",
      "metadata": {
        "id": "aWvsXZDzLl0r",
        "colab": {
          "base_uri": "https://localhost:8080/",
          "height": 282
        },
        "outputId": "31f208db-33e9-480a-c014-92e6a55eab4f"
      },
      "source": [
        "def H(X):\n",
        "  Y = np.zeros(len(X))\n",
        "  for idx,x in enumerate(X):\n",
        "    if x>=0:\n",
        "      Y[idx] = 1.0\n",
        "  return Y\n",
        "\n",
        "# Datos para graficación\n",
        "\n",
        "N = 1000\n",
        "\n",
        "X = np.linspace(-1.25,1.25, num=N)\n",
        "\n",
        "y = H(X)\n",
        "\n",
        "fig, ax = plt.subplots()\n",
        "ax.plot(X, y)\n",
        "ax.grid()\n",
        "ax.axhline(y=0, color='r', linewidth=0.3)\n",
        "ax.axvline(x=0, color='r', linewidth=0.3)"
      ],
      "execution_count": 18,
      "outputs": [
        {
          "output_type": "execute_result",
          "data": {
            "text/plain": [
              "<matplotlib.lines.Line2D at 0x7fd51b27e810>"
            ]
          },
          "metadata": {},
          "execution_count": 18
        },
        {
          "output_type": "display_data",
          "data": {
            "image/png": "[encoded data removed]",
            "text/plain": [
              "<Figure size 432x288 with 1 Axes>"
            ]
          },
          "metadata": {
            "needs_background": "light"
          }
        }
      ]
    }
  ]
}